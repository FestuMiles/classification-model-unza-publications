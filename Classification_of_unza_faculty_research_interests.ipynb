{
  "nbformat": 4,
  "nbformat_minor": 0,
  "metadata": {
    "colab": {
      "provenance": [],
      "toc_visible": true,
      "include_colab_link": true
    },
    "kernelspec": {
      "name": "python3",
      "display_name": "Python 3"
    },
    "language_info": {
      "name": "python"
    }
  },
  "cells": [
    {
      "cell_type": "markdown",
      "metadata": {
        "id": "view-in-github",
        "colab_type": "text"
      },
      "source": [
        "<a href=\"https://colab.research.google.com/github/FestuMiles/classification-model-unza-publications/blob/main/Classification_of_unza_faculty_research_interests.ipynb\" target=\"_parent\"><img src=\"https://colab.research.google.com/assets/colab-badge.svg\" alt=\"Open In Colab\"/></a>"
      ]
    },
    {
      "cell_type": "markdown",
      "source": [
        "#1. Business Understanding\n",
        "##Problem Statement\n",
        "The University of Zambia (UNZA) produces numerous research publications annually across diverse faculties. However, these publications are not systematically classified according to Zambia’s Vision 2030 sector categories, making it challenging for policymakers, funding bodies, and administrators to assess how research aligns with national development priorities. Manual classification is time-consuming, inconsistent, and inefficient. There is a need for an automated system to classify research outputs into Vision 2030 sectors using only publication titles."
      ],
      "metadata": {
        "id": "D5sw1X4Fu97P"
      }
    },
    {
      "cell_type": "markdown",
      "source": [
        "##Business Objectives\n",
        "The objective is to:\n",
        "* Automate the classification of UNZA faculty research publications into Vision 2030 sector categories.\n",
        "* Improve accessibility and searchability of research outputs by sector.\n",
        "* Enable faster and more consistent reporting for stakeholders.\n",
        "\n",
        "Success in real-world terms means stakeholders can easily retrieve research outputs relevant to specific Vision 2030 sectors making the classification process faster, more consistent, and requires minimal\n",
        "\n",
        "##Data Mining Goals\n",
        "* We will collect, understand the data of UNZA faculty member’s publications\n",
        "* We prepare the training and testing data which includes include cleaning, transforming, integrating, and formatting data for modeling.\n",
        "* We will build a supervised machine learning classification model that:\n",
        " * Takes a publication title as input.\n",
        " *\tPredicts the most likely Vision 2030 sector category (e.g., Agriculture, Energy, Health, Education, etc.).\n",
        " * Is trained and evaluated using labeled publication title data from UNZA faculty research.\n",
        "* We will assesses the quality and effectiveness of the model ensuring the results achieve the business objectives\n",
        "##Initial Project Success Criteria\n",
        "* **Model Performance**: The classification model should achieve at least 80% accuracy on unseen test data.\n",
        "* **Usability**: The system should output results in a clear and interpretable format for non-technical users.\n",
        "* **Practical Value**: The automated classification should reduce the manual categorization time by at least 50% compared to the current process.\n",
        "\n",
        "\n"
      ],
      "metadata": {
        "id": "XSZU0rUuvLf6"
      }
    },
    {
      "cell_type": "code",
      "source": [],
      "metadata": {
        "id": "72OlMR1Wj1g4"
      },
      "execution_count": null,
      "outputs": []
    },
    {
      "cell_type": "markdown",
      "source": [
        "# Data Understanding"
      ],
      "metadata": {
        "id": "Rh8IZSwBkblB"
      }
    },
    {
      "cell_type": "code",
      "source": [
        "import pandas as pd"
      ],
      "metadata": {
        "id": "TYcjuy0IImGQ"
      },
      "execution_count": null,
      "outputs": []
    },
    {
      "cell_type": "code",
      "source": [
        "#Mounting to the drive so that created files are saved\n",
        "from google.colab import drive\n",
        "drive.mount('/content/drive')"
      ],
      "metadata": {
        "id": "80WMjBU2K1_u",
        "colab": {
          "base_uri": "https://localhost:8080/"
        },
        "outputId": "03c098d9-a7f5-4ef3-cbe9-57a933989ab2"
      },
      "execution_count": null,
      "outputs": [
        {
          "output_type": "stream",
          "name": "stdout",
          "text": [
            "Mounted at /content/drive\n"
          ]
        }
      ]
    },
    {
      "cell_type": "code",
      "metadata": {
        "colab": {
          "base_uri": "https://localhost:8080/"
        },
        "id": "165fac9c",
        "outputId": "ed9b2295-7663-4e35-af30-3198eaa8a556"
      },
      "source": [
        "#Navigating to the shared team project folder\n",
        "#instructions: ensure you have created a shortcut of the shared folder in the drive\n",
        "#root directory\n",
        "%cd \"/content/drive/My Drive/misc-unza25-csc4792-project_team21\""
      ],
      "execution_count": null,
      "outputs": [
        {
          "output_type": "stream",
          "name": "stdout",
          "text": [
            "/content/drive/.shortcut-targets-by-id/1rE8kSkQXl-SiU24RkWcyCi02p-dW0Y-1/misc-unza25-csc4792-project_team21\n"
          ]
        }
      ]
    },
    {
      "cell_type": "code",
      "source": [
        "!ls"
      ],
      "metadata": {
        "id": "yRZxtG3JQzhB",
        "colab": {
          "base_uri": "https://localhost:8080/"
        },
        "outputId": "f9a0857e-665d-46ab-9f34-add810360136"
      },
      "execution_count": null,
      "outputs": [
        {
          "output_type": "stream",
          "name": "stdout",
          "text": [
            "Classification_of_unza_faculty_research_interests.ipynb\n",
            "unza_faculty_publications_details.csv\n"
          ]
        }
      ]
    },
    {
      "cell_type": "code",
      "source": [
        "pub_details = pd.read_csv('unza_faculty_publications_details.csv')"
      ],
      "metadata": {
        "id": "s41OcZIaQz9g"
      },
      "execution_count": null,
      "outputs": []
    },
    {
      "cell_type": "code",
      "source": [
        "pub_details.head()"
      ],
      "metadata": {
        "colab": {
          "base_uri": "https://localhost:8080/",
          "height": 539
        },
        "id": "A3lxTlUxjwDJ",
        "outputId": "7eb31712-f89c-46b5-982c-d58581dfcfce"
      },
      "execution_count": null,
      "outputs": [
        {
          "output_type": "execute_result",
          "data": {
            "text/plain": [
              "                                               title  \\\n",
              "0  Zambezi voice: A multilingual speech corpus fo...   \n",
              "1  BembaSpeech: A speech recognition corpus for t...   \n",
              "2  Big-c: a multimodal multi-purpose dataset for ...   \n",
              "3  Evaluating DICOM Compliance for Medical Images...   \n",
              "4  Implementation of the Sustainable Development ...   \n",
              "\n",
              "                                   authors    year  \\\n",
              "0  C Sikasote, K Siaminwe, S Mwape, B Zulu  2023.0   \n",
              "1             C Sikasote, A Anastasopoulos  2021.0   \n",
              "2          C Sikasote, E Mukonde, MMI Alam  2023.0   \n",
              "3         E Chileshe, MC Sikasote, L Phiri     NaN   \n",
              "4        J Lubbungu, C Pailet, K Shameenda     NaN   \n",
              "\n",
              "                             venue  \\\n",
              "0           arXiv preprint arXiv …   \n",
              "1  arXiv preprint arXiv:2102.04889   \n",
              "2           arXiv preprint arXiv …   \n",
              "3                              NaN   \n",
              "4       … OF PUBLIC UNIVERSITIES …   \n",
              "\n",
              "                                            abstract  num_citations  \\\n",
              "0  for all the seven official native languages of...              5   \n",
              "1  impendwa ya bantu ba mu Zambia ukufika cipendo...             20   \n",
              "2  We present BIG-C (Bemba Image Grounded Convers...              6   \n",
              "3  This paper focuses on a detailed examination o...              0   \n",
              "4  of entrepreneurial universities in the world, ...              0   \n",
              "\n",
              "                                      url_scholarbib  \n",
              "0                   https://arxiv.org/abs/2306.04428  \n",
              "1                   https://arxiv.org/abs/2102.04889  \n",
              "2                   https://arxiv.org/abs/2305.17202  \n",
              "3  https://datalab.unza.zm/sites/default/files/20...  \n",
              "4  https://www.zapuc.edu.zm/docs/2018_ZAPUC_Confe...  "
            ],
            "text/html": [
              "\n",
              "  <div id=\"df-c92d2887-f133-4f2c-aacb-1f8782cdc752\" class=\"colab-df-container\">\n",
              "    <div>\n",
              "<style scoped>\n",
              "    .dataframe tbody tr th:only-of-type {\n",
              "        vertical-align: middle;\n",
              "    }\n",
              "\n",
              "    .dataframe tbody tr th {\n",
              "        vertical-align: top;\n",
              "    }\n",
              "\n",
              "    .dataframe thead th {\n",
              "        text-align: right;\n",
              "    }\n",
              "</style>\n",
              "<table border=\"1\" class=\"dataframe\">\n",
              "  <thead>\n",
              "    <tr style=\"text-align: right;\">\n",
              "      <th></th>\n",
              "      <th>title</th>\n",
              "      <th>authors</th>\n",
              "      <th>year</th>\n",
              "      <th>venue</th>\n",
              "      <th>abstract</th>\n",
              "      <th>num_citations</th>\n",
              "      <th>url_scholarbib</th>\n",
              "    </tr>\n",
              "  </thead>\n",
              "  <tbody>\n",
              "    <tr>\n",
              "      <th>0</th>\n",
              "      <td>Zambezi voice: A multilingual speech corpus fo...</td>\n",
              "      <td>C Sikasote, K Siaminwe, S Mwape, B Zulu</td>\n",
              "      <td>2023.0</td>\n",
              "      <td>arXiv preprint arXiv …</td>\n",
              "      <td>for all the seven official native languages of...</td>\n",
              "      <td>5</td>\n",
              "      <td>https://arxiv.org/abs/2306.04428</td>\n",
              "    </tr>\n",
              "    <tr>\n",
              "      <th>1</th>\n",
              "      <td>BembaSpeech: A speech recognition corpus for t...</td>\n",
              "      <td>C Sikasote, A Anastasopoulos</td>\n",
              "      <td>2021.0</td>\n",
              "      <td>arXiv preprint arXiv:2102.04889</td>\n",
              "      <td>impendwa ya bantu ba mu Zambia ukufika cipendo...</td>\n",
              "      <td>20</td>\n",
              "      <td>https://arxiv.org/abs/2102.04889</td>\n",
              "    </tr>\n",
              "    <tr>\n",
              "      <th>2</th>\n",
              "      <td>Big-c: a multimodal multi-purpose dataset for ...</td>\n",
              "      <td>C Sikasote, E Mukonde, MMI Alam</td>\n",
              "      <td>2023.0</td>\n",
              "      <td>arXiv preprint arXiv …</td>\n",
              "      <td>We present BIG-C (Bemba Image Grounded Convers...</td>\n",
              "      <td>6</td>\n",
              "      <td>https://arxiv.org/abs/2305.17202</td>\n",
              "    </tr>\n",
              "    <tr>\n",
              "      <th>3</th>\n",
              "      <td>Evaluating DICOM Compliance for Medical Images...</td>\n",
              "      <td>E Chileshe, MC Sikasote, L Phiri</td>\n",
              "      <td>NaN</td>\n",
              "      <td>NaN</td>\n",
              "      <td>This paper focuses on a detailed examination o...</td>\n",
              "      <td>0</td>\n",
              "      <td>https://datalab.unza.zm/sites/default/files/20...</td>\n",
              "    </tr>\n",
              "    <tr>\n",
              "      <th>4</th>\n",
              "      <td>Implementation of the Sustainable Development ...</td>\n",
              "      <td>J Lubbungu, C Pailet, K Shameenda</td>\n",
              "      <td>NaN</td>\n",
              "      <td>… OF PUBLIC UNIVERSITIES …</td>\n",
              "      <td>of entrepreneurial universities in the world, ...</td>\n",
              "      <td>0</td>\n",
              "      <td>https://www.zapuc.edu.zm/docs/2018_ZAPUC_Confe...</td>\n",
              "    </tr>\n",
              "  </tbody>\n",
              "</table>\n",
              "</div>\n",
              "    <div class=\"colab-df-buttons\">\n",
              "\n",
              "  <div class=\"colab-df-container\">\n",
              "    <button class=\"colab-df-convert\" onclick=\"convertToInteractive('df-c92d2887-f133-4f2c-aacb-1f8782cdc752')\"\n",
              "            title=\"Convert this dataframe to an interactive table.\"\n",
              "            style=\"display:none;\">\n",
              "\n",
              "  <svg xmlns=\"http://www.w3.org/2000/svg\" height=\"24px\" viewBox=\"0 -960 960 960\">\n",
              "    <path d=\"M120-120v-720h720v720H120Zm60-500h600v-160H180v160Zm220 220h160v-160H400v160Zm0 220h160v-160H400v160ZM180-400h160v-160H180v160Zm440 0h160v-160H620v160ZM180-180h160v-160H180v160Zm440 0h160v-160H620v160Z\"/>\n",
              "  </svg>\n",
              "    </button>\n",
              "\n",
              "  <style>\n",
              "    .colab-df-container {\n",
              "      display:flex;\n",
              "      gap: 12px;\n",
              "    }\n",
              "\n",
              "    .colab-df-convert {\n",
              "      background-color: #E8F0FE;\n",
              "      border: none;\n",
              "      border-radius: 50%;\n",
              "      cursor: pointer;\n",
              "      display: none;\n",
              "      fill: #1967D2;\n",
              "      height: 32px;\n",
              "      padding: 0 0 0 0;\n",
              "      width: 32px;\n",
              "    }\n",
              "\n",
              "    .colab-df-convert:hover {\n",
              "      background-color: #E2EBFA;\n",
              "      box-shadow: 0px 1px 2px rgba(60, 64, 67, 0.3), 0px 1px 3px 1px rgba(60, 64, 67, 0.15);\n",
              "      fill: #174EA6;\n",
              "    }\n",
              "\n",
              "    .colab-df-buttons div {\n",
              "      margin-bottom: 4px;\n",
              "    }\n",
              "\n",
              "    [theme=dark] .colab-df-convert {\n",
              "      background-color: #3B4455;\n",
              "      fill: #D2E3FC;\n",
              "    }\n",
              "\n",
              "    [theme=dark] .colab-df-convert:hover {\n",
              "      background-color: #434B5C;\n",
              "      box-shadow: 0px 1px 3px 1px rgba(0, 0, 0, 0.15);\n",
              "      filter: drop-shadow(0px 1px 2px rgba(0, 0, 0, 0.3));\n",
              "      fill: #FFFFFF;\n",
              "    }\n",
              "  </style>\n",
              "\n",
              "    <script>\n",
              "      const buttonEl =\n",
              "        document.querySelector('#df-c92d2887-f133-4f2c-aacb-1f8782cdc752 button.colab-df-convert');\n",
              "      buttonEl.style.display =\n",
              "        google.colab.kernel.accessAllowed ? 'block' : 'none';\n",
              "\n",
              "      async function convertToInteractive(key) {\n",
              "        const element = document.querySelector('#df-c92d2887-f133-4f2c-aacb-1f8782cdc752');\n",
              "        const dataTable =\n",
              "          await google.colab.kernel.invokeFunction('convertToInteractive',\n",
              "                                                    [key], {});\n",
              "        if (!dataTable) return;\n",
              "\n",
              "        const docLinkHtml = 'Like what you see? Visit the ' +\n",
              "          '<a target=\"_blank\" href=https://colab.research.google.com/notebooks/data_table.ipynb>data table notebook</a>'\n",
              "          + ' to learn more about interactive tables.';\n",
              "        element.innerHTML = '';\n",
              "        dataTable['output_type'] = 'display_data';\n",
              "        await google.colab.output.renderOutput(dataTable, element);\n",
              "        const docLink = document.createElement('div');\n",
              "        docLink.innerHTML = docLinkHtml;\n",
              "        element.appendChild(docLink);\n",
              "      }\n",
              "    </script>\n",
              "  </div>\n",
              "\n",
              "\n",
              "    <div id=\"df-9e989115-6824-4673-a2a2-8fdf6a36d555\">\n",
              "      <button class=\"colab-df-quickchart\" onclick=\"quickchart('df-9e989115-6824-4673-a2a2-8fdf6a36d555')\"\n",
              "                title=\"Suggest charts\"\n",
              "                style=\"display:none;\">\n",
              "\n",
              "<svg xmlns=\"http://www.w3.org/2000/svg\" height=\"24px\"viewBox=\"0 0 24 24\"\n",
              "     width=\"24px\">\n",
              "    <g>\n",
              "        <path d=\"M19 3H5c-1.1 0-2 .9-2 2v14c0 1.1.9 2 2 2h14c1.1 0 2-.9 2-2V5c0-1.1-.9-2-2-2zM9 17H7v-7h2v7zm4 0h-2V7h2v10zm4 0h-2v-4h2v4z\"/>\n",
              "    </g>\n",
              "</svg>\n",
              "      </button>\n",
              "\n",
              "<style>\n",
              "  .colab-df-quickchart {\n",
              "      --bg-color: #E8F0FE;\n",
              "      --fill-color: #1967D2;\n",
              "      --hover-bg-color: #E2EBFA;\n",
              "      --hover-fill-color: #174EA6;\n",
              "      --disabled-fill-color: #AAA;\n",
              "      --disabled-bg-color: #DDD;\n",
              "  }\n",
              "\n",
              "  [theme=dark] .colab-df-quickchart {\n",
              "      --bg-color: #3B4455;\n",
              "      --fill-color: #D2E3FC;\n",
              "      --hover-bg-color: #434B5C;\n",
              "      --hover-fill-color: #FFFFFF;\n",
              "      --disabled-bg-color: #3B4455;\n",
              "      --disabled-fill-color: #666;\n",
              "  }\n",
              "\n",
              "  .colab-df-quickchart {\n",
              "    background-color: var(--bg-color);\n",
              "    border: none;\n",
              "    border-radius: 50%;\n",
              "    cursor: pointer;\n",
              "    display: none;\n",
              "    fill: var(--fill-color);\n",
              "    height: 32px;\n",
              "    padding: 0;\n",
              "    width: 32px;\n",
              "  }\n",
              "\n",
              "  .colab-df-quickchart:hover {\n",
              "    background-color: var(--hover-bg-color);\n",
              "    box-shadow: 0 1px 2px rgba(60, 64, 67, 0.3), 0 1px 3px 1px rgba(60, 64, 67, 0.15);\n",
              "    fill: var(--button-hover-fill-color);\n",
              "  }\n",
              "\n",
              "  .colab-df-quickchart-complete:disabled,\n",
              "  .colab-df-quickchart-complete:disabled:hover {\n",
              "    background-color: var(--disabled-bg-color);\n",
              "    fill: var(--disabled-fill-color);\n",
              "    box-shadow: none;\n",
              "  }\n",
              "\n",
              "  .colab-df-spinner {\n",
              "    border: 2px solid var(--fill-color);\n",
              "    border-color: transparent;\n",
              "    border-bottom-color: var(--fill-color);\n",
              "    animation:\n",
              "      spin 1s steps(1) infinite;\n",
              "  }\n",
              "\n",
              "  @keyframes spin {\n",
              "    0% {\n",
              "      border-color: transparent;\n",
              "      border-bottom-color: var(--fill-color);\n",
              "      border-left-color: var(--fill-color);\n",
              "    }\n",
              "    20% {\n",
              "      border-color: transparent;\n",
              "      border-left-color: var(--fill-color);\n",
              "      border-top-color: var(--fill-color);\n",
              "    }\n",
              "    30% {\n",
              "      border-color: transparent;\n",
              "      border-left-color: var(--fill-color);\n",
              "      border-top-color: var(--fill-color);\n",
              "      border-right-color: var(--fill-color);\n",
              "    }\n",
              "    40% {\n",
              "      border-color: transparent;\n",
              "      border-right-color: var(--fill-color);\n",
              "      border-top-color: var(--fill-color);\n",
              "    }\n",
              "    60% {\n",
              "      border-color: transparent;\n",
              "      border-right-color: var(--fill-color);\n",
              "    }\n",
              "    80% {\n",
              "      border-color: transparent;\n",
              "      border-right-color: var(--fill-color);\n",
              "      border-bottom-color: var(--fill-color);\n",
              "    }\n",
              "    90% {\n",
              "      border-color: transparent;\n",
              "      border-bottom-color: var(--fill-color);\n",
              "    }\n",
              "  }\n",
              "</style>\n",
              "\n",
              "      <script>\n",
              "        async function quickchart(key) {\n",
              "          const quickchartButtonEl =\n",
              "            document.querySelector('#' + key + ' button');\n",
              "          quickchartButtonEl.disabled = true;  // To prevent multiple clicks.\n",
              "          quickchartButtonEl.classList.add('colab-df-spinner');\n",
              "          try {\n",
              "            const charts = await google.colab.kernel.invokeFunction(\n",
              "                'suggestCharts', [key], {});\n",
              "          } catch (error) {\n",
              "            console.error('Error during call to suggestCharts:', error);\n",
              "          }\n",
              "          quickchartButtonEl.classList.remove('colab-df-spinner');\n",
              "          quickchartButtonEl.classList.add('colab-df-quickchart-complete');\n",
              "        }\n",
              "        (() => {\n",
              "          let quickchartButtonEl =\n",
              "            document.querySelector('#df-9e989115-6824-4673-a2a2-8fdf6a36d555 button');\n",
              "          quickchartButtonEl.style.display =\n",
              "            google.colab.kernel.accessAllowed ? 'block' : 'none';\n",
              "        })();\n",
              "      </script>\n",
              "    </div>\n",
              "\n",
              "    </div>\n",
              "  </div>\n"
            ],
            "application/vnd.google.colaboratory.intrinsic+json": {
              "type": "dataframe",
              "variable_name": "pub_details",
              "summary": "{\n  \"name\": \"pub_details\",\n  \"rows\": 116,\n  \"fields\": [\n    {\n      \"column\": \"title\",\n      \"properties\": {\n        \"dtype\": \"string\",\n        \"num_unique_values\": 111,\n        \"samples\": [\n          \"\\u2026 sensing estimation of spatial and temporal variability of actual evapotranspiration using SEBs Algorithm in the semi-arid Barotse Sub-Basin, South-Western Zambia\",\n          \"Design and Implementation of an Orthanc Plugin for Semi-Automatic Interpretation of Medical Images\",\n          \"Implementation of the Sustainable Development Goals (SDGs) Through Education for\"\n        ],\n        \"semantic_type\": \"\",\n        \"description\": \"\"\n      }\n    },\n    {\n      \"column\": \"authors\",\n      \"properties\": {\n        \"dtype\": \"string\",\n        \"num_unique_values\": 98,\n        \"samples\": [\n          \"SM Ndhlovu\",\n          \"AH Phiri\",\n          \"Z Lusaka\"\n        ],\n        \"semantic_type\": \"\",\n        \"description\": \"\"\n      }\n    },\n    {\n      \"column\": \"year\",\n      \"properties\": {\n        \"dtype\": \"number\",\n        \"std\": 5.105607220097389,\n        \"min\": 2000.0,\n        \"max\": 2025.0,\n        \"num_unique_values\": 18,\n        \"samples\": [\n          2023.0,\n          2021.0,\n          2008.0\n        ],\n        \"semantic_type\": \"\",\n        \"description\": \"\"\n      }\n    },\n    {\n      \"column\": \"venue\",\n      \"properties\": {\n        \"dtype\": \"category\",\n        \"num_unique_values\": 53,\n        \"samples\": [\n          \"Proceedings of the Computational Methods in \\u2026\",\n          \"IOSR Journal of Computer \\u2026\",\n          \"Education Research \\u2026\"\n        ],\n        \"semantic_type\": \"\",\n        \"description\": \"\"\n      }\n    },\n    {\n      \"column\": \"abstract\",\n      \"properties\": {\n        \"dtype\": \"string\",\n        \"num_unique_values\": 111,\n        \"samples\": [\n          \"and daughters, Pelekelo and Monde Kalumbilo for the love and care. I would also like to  thank Mr. Kabemba and Mrs. Monica Monde Kalumbilo Kabemba for the encouragement and\",\n          \"or otherwise without the prior written permission of the author or the University of Zambia.   Furthermore, I would like to extend my gratitude to my supervisors Mr Claytone Sikasote and Dr\",\n          \"of entrepreneurial universities in the world, Africa and Zambia, including the Mulungushi  University. The recommendations of this paper include: the universities in Zambia should offer\"\n        ],\n        \"semantic_type\": \"\",\n        \"description\": \"\"\n      }\n    },\n    {\n      \"column\": \"num_citations\",\n      \"properties\": {\n        \"dtype\": \"number\",\n        \"std\": 26,\n        \"min\": 0,\n        \"max\": 229,\n        \"num_unique_values\": 19,\n        \"samples\": [\n          5,\n          229,\n          73\n        ],\n        \"semantic_type\": \"\",\n        \"description\": \"\"\n      }\n    },\n    {\n      \"column\": \"url_scholarbib\",\n      \"properties\": {\n        \"dtype\": \"string\",\n        \"num_unique_values\": 111,\n        \"samples\": [\n          \"https://dspace.unza.zm/handle/123456789/3135\",\n          \"https://datalab.unza.zm/sites/default/files/2024-06/etds-datalab24-pdip-dissertation-andrew_shawa.pdf\",\n          \"https://www.zapuc.edu.zm/docs/2018_ZAPUC_Conference_Proceedings.pdf#page=8\"\n        ],\n        \"semantic_type\": \"\",\n        \"description\": \"\"\n      }\n    }\n  ]\n}"
            }
          },
          "metadata": {},
          "execution_count": 7
        }
      ]
    }
  ]
}